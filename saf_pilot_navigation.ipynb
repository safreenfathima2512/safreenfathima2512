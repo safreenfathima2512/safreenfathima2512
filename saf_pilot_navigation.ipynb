{
  "nbformat": 4,
  "nbformat_minor": 0,
  "metadata": {
    "colab": {
      "name": "saf pilot navigation.ipynb",
      "provenance": []
    },
    "kernelspec": {
      "name": "python3",
      "display_name": "Python 3"
    },
    "language_info": {
      "name": "python"
    }
  },
  "cells": [
    {
      "cell_type": "code",
      "metadata": {
        "id": "KX5K-mtlLhGI",
        "colab": {
          "base_uri": "https://localhost:8080/"
        },
        "outputId": "ab3e0113-4881-469d-e3fd-e9aac10dff6b"
      },
      "source": [
        "\n",
        "obs= int(input(\"enter the altitude:\"))\n",
        "if (obs==3000):\n",
        "    print(\"your landing is safe\")\n",
        "elif (obs>3000):\n",
        "    print(\"Try again\")\n",
        "elif (obs<6000):\n",
        "    print(\"Try again\")\n",
        "elif (obs>6000):\n",
        "    print(\"Go around\")\n",
        "else:\n",
        "    print(\"wrong Altitude\")\n",
        "exit()"
      ],
      "execution_count": 1,
      "outputs": [
        {
          "output_type": "stream",
          "text": [
            "enter the altitude:3000\n",
            "your landing is safe\n"
          ],
          "name": "stdout"
        }
      ]
    }
  ]
}